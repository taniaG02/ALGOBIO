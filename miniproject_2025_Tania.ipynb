{
 "cells": [
  {
   "cell_type": "markdown",
   "id": "e578b609-3749-457f-b608-70dcd790d93e",
   "metadata": {},
   "source": [
    "# Miniproject\n",
    "\n",
    "You have to turn in\n",
    "\n",
    "* a file \n",
    "\n",
    "  >`mp_apellidos.ipynb` \n",
    "  \n",
    "  where `apellidos` are the last names of the members of each team.Just fill in the cell codes below with your functions and run the lines that currently start with comments. Make sure it works fine by executing Kernel/Restart & Run All.\n",
    "  \n",
    "  **Don't forget to write function docstrings and an adequate control of function parameters.** \n",
    "    \n",
    "    \n",
    "* a file \n",
    "  \n",
    "  >`mp_apellidos.html` \n",
    "  \n",
    "  with an `html` rendering of the previous `.ipynb` file (for instance, if working with Jupyter notebooks, just apply `File / Download as HTML` after a correct run of `Kernel/Restart & Run All`).\n",
    "\n",
    "**Submitting your work**\n",
    "\n",
    "1. Create a folder named `apellidos` and place there the previous `.ipynb`and `.html` files.\n",
    "2. Compress **the folder** with 7zip, WinZip or a similar tool to create a `apellidos.zip` compressed file.\n",
    "3. Upload this zipped file using the moodle link.\n",
    "\n",
    "**Very important!!!**\n",
    "\n",
    "*Make sure you follow the file naming conventions above*. If not, you may be asked to resubmit your work."
   ]
  },
  {
   "cell_type": "code",
   "execution_count": null,
   "id": "13140869",
   "metadata": {},
   "outputs": [],
   "source": []
  },
  {
   "cell_type": "markdown",
   "id": "6e2401b2-a280-462b-b577-90c09dbafb0a",
   "metadata": {},
   "source": [
    "## Question 1: Finding the Longest Common Subsequence\n",
    "\n",
    "We have not paid too much attention to it, but we have in the slides the basis of a dynamic programming algorithm to find the length of **longest common subsequence** between two strings, i.e. the longest, perhaps non consecutive, string that appears in both.  \n",
    "\n",
    "Notice that **we do not impose** the constraint of the **characters in the sequence be consecutive**; with that requirement the problem is called the **common substring problem**.\n",
    "\n",
    "Write first a Python function `lcs_matrix(s, t)` that receives two strings `s, t` and returns the dynamic programming matrix used to compute the length of their longest common subsequence.\n",
    "\n",
    "Then write a Python function `lcs(s, t)` that returns a string with a longest common subsequence, using the LCS matrix returned by the previous function."
   ]
  },
  {
   "cell_type": "code",
   "execution_count": 1,
   "id": "41e69418-340f-4fee-a4ce-cf10014d7983",
   "metadata": {
    "tags": []
   },
   "outputs": [
    {
     "name": "stdout",
     "output_type": "stream",
     "text": [
      "bananas bahamas None\n",
      "biscuit suitcase None\n",
      "confidential trascendental None\n"
     ]
    }
   ],
   "source": [
    "def lcs_matrix(s, t):\n",
    "    \"\"\"\n",
    "    \"\"\"\n",
    "    pass\n",
    "\n",
    "\n",
    "def lcs(s, t):\n",
    "    \"\"\"\n",
    "    \"\"\"\n",
    "    pass\n",
    "\n",
    "for s, t in zip(['bananas', 'biscuit', 'confidential'], ['bahamas', 'suitcase', 'trascendental']):\n",
    "    lc_str = lcs(s, t)\n",
    "    print(s, t, lc_str)"
   ]
  },
  {
   "cell_type": "code",
   "execution_count": null,
   "id": "c7369349-0561-4a17-b73b-d8a971edb9bf",
   "metadata": {},
   "outputs": [],
   "source": [
    "# Función para construir la matriz LCS\n",
    "def lcs_matrix(s, t):\n",
    "    \n",
    "    # Meter controles:\n",
    "    # Verificar que s y t son cadenas de text.\n",
    "    if not isinstance(s, str) or not isinstance(t, str):\n",
    "        raise ValueError(\"Both inputs must be strings.\")\n",
    "    # Si las cadenas son vacias, no hay subsecuencia común.\n",
    "    if len(s) == 0 or len(t) == 0:\n",
    "        return \"\"\n",
    "    # Manejar cualquier tipo de entrada: convertir todo a minúsculas.\n",
    "    s = s.lower()\n",
    "    t = t.lower()\n",
    "\n",
    "\n",
    "    # Inicializamos la matriz con ceros\n",
    "    m, n = len(s), len(t)\n",
    "    LCS = [[0] * (n + 1) for _ in range(m + 1)]\n",
    "    \n",
    "    # Llenamos la matriz usando programación dinámica\n",
    "    for i in range(1, m + 1):\n",
    "        for j in range(1, n + 1):\n",
    "            if s[i - 1] == t[j - 1]:\n",
    "                LCS[i][j] = LCS[i - 1][j - 1] + 1  # Carácter común, sumamos 1\n",
    "            else:\n",
    "                LCS[i][j] = max(LCS[i - 1][j], LCS[i][j - 1])  # Tomamos el máximo de los casos\n",
    "    \n",
    "    return LCS\n",
    "\n",
    "\n",
    "# Función para reconstruir la LCS a partir de la matriz\n",
    "def lcs(s, t):\n",
    "    # Obtener la matriz LCS\n",
    "    LCS = lcs_matrix(s, t)\n",
    "    \n",
    "    # Reconstruir la subsecuencia común más larga\n",
    "    i, j = len(s), len(t)\n",
    "    subsequence = []\n",
    "    \n",
    "    while i > 0 and j > 0:\n",
    "        if s[i - 1] == t[j - 1]:\n",
    "            subsequence.append(s[i - 1])  # Si son iguales, agregamos el carácter\n",
    "            i -= 1\n",
    "            j -= 1\n",
    "        elif LCS[i - 1][j] >= LCS[i][j - 1]:\n",
    "            i -= 1  # Si no son iguales, movemos hacia arriba en la matriz\n",
    "        else:\n",
    "            j -= 1  # Si no son iguales, movemos hacia la izquierda en la matriz\n",
    "    \n",
    "    # La subsecuencia se construye al revés, así que la invertimos antes de devolverla\n",
    "    return ''.join(reversed(subsequence))"
   ]
  },
  {
   "cell_type": "markdown",
   "id": "104c77e5-1922-4c71-b902-bd995a3d7240",
   "metadata": {},
   "source": [
    "#### Optimización de Memoria:\n",
    "Si las cadenas son muy grandes, puedes optimizar el uso de memoria. En lugar de mantener toda la matriz de LCS, puedes usar un arreglo 1D de tamaño len(t)+1, ya que solo necesitas la fila actual y la fila anterior en cada paso. Esto ahorra espacio de memoria."
   ]
  },
  {
   "cell_type": "code",
   "execution_count": 61,
   "id": "23c70aae-cdfa-4326-802f-b73b1c80c859",
   "metadata": {},
   "outputs": [],
   "source": [
    "def lcs_matrix(s, t):\n",
    "    m, n = len(s), len(t)\n",
    "    # Usamos un arreglo de una sola fila en lugar de una matriz completa\n",
    "    prev = [0] * (n + 1)\n",
    "    current = [0] * (n + 1)\n",
    "    \n",
    "    for i in range(1, m + 1):\n",
    "        for j in range(1, n + 1):\n",
    "            if s[i - 1] == t[j - 1]:\n",
    "                current[j] = prev[j - 1] + 1\n",
    "            else:\n",
    "                current[j] = max(prev[j], current[j - 1])\n",
    "        prev = current[:]\n",
    "    \n",
    "    return prev"
   ]
  },
  {
   "cell_type": "code",
   "execution_count": 67,
   "id": "34d86c83-5397-4a4c-b3e4-2101d9ebe08d",
   "metadata": {},
   "outputs": [],
   "source": [
    "assert lcs(\"abc\", \"abc\") == \"abc\"  # Caso trivial: las cadenas son iguales\n",
    "assert lcs(\"abc\", \"xyz\") == \"\"     # Caso sin subsecuencia común\n",
    "assert lcs(\"\", \"abc\") == \"\"        # Caso de cadena vacía"
   ]
  },
  {
   "cell_type": "code",
   "execution_count": 57,
   "id": "07a0adc9-be6b-4836-be20-c418e7119574",
   "metadata": {},
   "outputs": [
    {
     "name": "stdout",
     "output_type": "stream",
     "text": [
      "Matriz LCS:\n",
      "[0, 0, 0, 0, 0, 0, 0]\n",
      "[0, 0, 0, 0, 1, 1, 1]\n",
      "[0, 1, 1, 1, 1, 2, 2]\n",
      "[0, 1, 1, 2, 2, 2, 2]\n",
      "[0, 1, 1, 2, 2, 3, 3]\n",
      "[0, 1, 2, 2, 2, 3, 3]\n",
      "[0, 1, 2, 2, 3, 3, 4]\n",
      "[0, 1, 2, 2, 3, 4, 4]\n",
      "LCS: bcba\n"
     ]
    }
   ],
   "source": [
    "# Ejemplo de uso:\n",
    "s = \"abcbdab\"\n",
    "t = \"bdcaba\"\n",
    "print(\"Matriz LCS:\")\n",
    "lcs_matrix_result = lcs_matrix(s, t)\n",
    "for row in lcs_matrix_result:\n",
    "    print(row)\n",
    "\n",
    "print(\"LCS:\", lcs(s, t))\n"
   ]
  },
  {
   "cell_type": "raw",
   "id": "e1e815f2-76f1-4526-b44e-16b3c0a06903",
   "metadata": {},
   "source": [
    "def lcs_matrix(s, t):\n",
    "    s_len = len(s)\n",
    "    t_len = len(t)\n",
    "    #Genero la matrix\n",
    "    matrix = []\n",
    "    for _ in range(t_len+1): \n",
    "        row = [0] * (t_len+1) \n",
    "        matrix.append(row)\n",
    "    #print (matrix)\n",
    "    #Relleno la matrix\n",
    "    for i in range(1, s_len + 1):\n",
    "        for j in range(1, t_len + 1):\n",
    "            if s[i - 1] == t[j - 1]:  \n",
    "                matrix[i][j] = matrix[i - 1][j - 1] + 1\n",
    "            else:\n",
    "                matrix[i][j] = max(matrix[i - 1][j], matrix[i][j - 1])\n",
    "    return matrix"
   ]
  },
  {
   "cell_type": "code",
   "execution_count": 57,
   "id": "7bb61b3f-4dd7-4c9c-819b-bec3ccac7556",
   "metadata": {},
   "outputs": [
    {
     "data": {
      "text/plain": [
       "[[0, 0, 0, 0, 0, 0, 0, 0],\n",
       " [0, 1, 1, 1, 1, 1, 1, 1],\n",
       " [0, 1, 1, 1, 1, 1, 1, 1],\n",
       " [0, 1, 1, 1, 1, 1, 1, 1],\n",
       " [0, 1, 1, 1, 1, 1, 1, 1],\n",
       " [0, 1, 1, 1, 1, 1, 1, 1],\n",
       " [0, 1, 1, 1, 1, 1, 1, 1],\n",
       " [0, 1, 1, 2, 2, 2, 2, 2]]"
      ]
     },
     "execution_count": 57,
     "metadata": {},
     "output_type": "execute_result"
    }
   ],
   "source": [
    "lcs_matrix('bananas', 'biscuit')"
   ]
  },
  {
   "cell_type": "raw",
   "id": "4cca0ea5-79f1-4347-a843-ca123ff7a2e4",
   "metadata": {},
   "source": [
    "def lcs_matrix(s, t):\n",
    "    s_length = len(s)\n",
    "    t_length = len(t)\n",
    "    dp_matrix = [[ 0 for _ in range (t_length+1)] for _ in range(s_length+1)]\n",
    "    response = 0\n",
    "    for row in range (1, s_length+ 1):\n",
    "        for col in range (1, t_length+ 1):\n",
    "            if s[row-1] == t[col-1]:\n",
    "                dp_matrix[row][col] = dp_matrix[row-1][col-1] +1\n",
    "                response = max(dp_matrix[row][col], response)\n",
    "            else:\n",
    "                dp_matrix[row][col] = max (dp_matrix[row-1][col], dp_matrix[row][col-1])\n",
    "    return response"
   ]
  },
  {
   "cell_type": "raw",
   "id": "2da82964-8aad-4e0a-8182-e7a37ab9f74e",
   "metadata": {},
   "source": [
    "def lcs_matrix(s, t):\n",
    "    s_length = len(s)\n",
    "    t_length = len(t)\n",
    "    dp_matrix = [[ 0 for _ in range (t_length+1)] for _ in range(s_length+1)]\n",
    "    for row in range (1, s_length+ 1):\n",
    "        for col in range (1, t_length+ 1):\n",
    "            if s[row-1] == t[col-1]:\n",
    "                dp_matrix[row][col] = dp_matrix[row-1][col-1] +1\n",
    "            else:\n",
    "                dp_matrix[row][col] = max (dp_matrix[row-1][col], dp_matrix[row][col-1])\n",
    "    return dp_matrix"
   ]
  },
  {
   "cell_type": "raw",
   "id": "74146ee2-5bce-4e14-84ee-1e20628e52c6",
   "metadata": {},
   "source": [
    "def lcs(s, t):\n",
    "    dp = lcs_matrix(s, t)\n",
    "    i, j = len(s), len(t)\n",
    "    lcs_str = []\n",
    "\n",
    "    while i > 0 and j > 0:\n",
    "        if s[i - 1] == t[j - 1]: # Si lo caracteres coinciden \n",
    "            lcs_str.append(s[i - 1])\n",
    "            i -= 1\n",
    "            j -= 1\n",
    "        elif dp[i - 1][j] > dp[i][j - 1]:  \n",
    "            i -= 1\n",
    "        else:\n",
    "            j -= 1\n",
    "\n",
    "    return \"\".join(reversed(lcs_str))"
   ]
  },
  {
   "cell_type": "code",
   "execution_count": 61,
   "id": "d1892c6f-cb9a-4cc4-8d86-d34c00565003",
   "metadata": {},
   "outputs": [
    {
     "name": "stdout",
     "output_type": "stream",
     "text": [
      "bananas bahamas baaas\n",
      "biscuit suitcase suit\n",
      "confidential trascendental cndental\n"
     ]
    }
   ],
   "source": [
    "for s, t in zip(['bananas', 'biscuit', 'confidential'], ['bahamas', 'suitcase', 'trascendental']):\n",
    "    lc_str = lcs(s, t)\n",
    "    print(s, t, lc_str)"
   ]
  },
  {
   "cell_type": "markdown",
   "id": "1004565e",
   "metadata": {},
   "source": [
    "## Question 2: The Pascal Triangle\n",
    "\n",
    "Pascal's triangle is a triangular array of integers constructed with the following formula:\n",
    "\n",
    "* The first row consists of the number 1.\n",
    "* For each subsequent row, each element is the sum of the numbers directly above it, on either side.\n",
    "\n",
    "For example, here are the first few rows:  \n",
    "```text \n",
    "    1  \n",
    "   1 1  \n",
    "  1 2 1  \n",
    " 1 3 3 1  \n",
    "1 4 6 4 1 \n",
    "``` \n",
    "\n",
    "Write a Python function `pascal_row(k)` that returns the `k`-th row of Pascal's triangle. Assume the single `1` to be the 0-th row.  \n",
    "\n",
    "*Hint: Make it a recursive function that computes first the previous row `k-1` and uses it to compute the current one.*"
   ]
  },
  {
   "cell_type": "code",
   "execution_count": 2,
   "id": "8d7a3237",
   "metadata": {},
   "outputs": [
    {
     "name": "stdout",
     "output_type": "stream",
     "text": [
      "None\n",
      "None\n",
      "None\n",
      "None\n",
      "None\n",
      "None\n",
      "None\n",
      "None\n",
      "None\n",
      "None\n"
     ]
    }
   ],
   "source": [
    "def pascal_row(k):\n",
    "    \"\"\"\n",
    "    \"\"\"\n",
    "    pass\n",
    "\n",
    "for k in range(1, 11):\n",
    "    tr = pascal_row(k)\n",
    "    print(tr)"
   ]
  },
  {
   "cell_type": "code",
   "execution_count": null,
   "id": "c4aaadbb-3885-419e-95f6-e9ce7f665399",
   "metadata": {},
   "outputs": [],
   "source": [
    "def pascal_row(k):\n",
    "    #Comprobar que el argumento de entrada es un entero\n",
    "    matrix = []\n",
    "    z=0\n",
    "    for x in range (k):\n",
    "        matrix.append([])\n",
    "\n",
    "    for x in range (k):\n",
    "        for y in range (x+1):\n",
    "            if y==0 or y==x:\n",
    "                matrix[x].append(1)\n",
    "            else:\n",
    "                z=matrix[x-1][y]+matrix[x-1][y-1]\n",
    "                matrix[x].append(z)\n",
    "    #print (str(matrix[x]))\n",
    "    return str(matrix[x])"
   ]
  },
  {
   "cell_type": "code",
   "execution_count": 37,
   "id": "7e1eaee9-6821-49cb-ae39-058b04667ad8",
   "metadata": {},
   "outputs": [
    {
     "name": "stdout",
     "output_type": "stream",
     "text": [
      "[1]\n",
      "[1, 1]\n",
      "[1, 2, 1]\n",
      "[1, 3, 3, 1]\n",
      "[1, 4, 6, 4, 1]\n",
      "[1, 5, 10, 10, 5, 1]\n",
      "[1, 6, 15, 20, 15, 6, 1]\n",
      "[1, 7, 21, 35, 35, 21, 7, 1]\n",
      "[1, 8, 28, 56, 70, 56, 28, 8, 1]\n",
      "[1, 9, 36, 84, 126, 126, 84, 36, 9, 1]\n"
     ]
    }
   ],
   "source": [
    "for k in range(1, 11):\n",
    "    tr = pascal_row(k)\n",
    "    print(tr)"
   ]
  },
  {
   "cell_type": "raw",
   "id": "ba6b749a-a40f-4a07-9c4a-2f9770596b43",
   "metadata": {},
   "source": [
    "##VERSION NO RECURSIVA\n",
    "import numpy as np\n",
    "\n",
    "def pascal_row(k):\n",
    "    # Crear una matriz de ceros con (k+1) filas y (k+1) columnas\n",
    "    triangle = np.zeros((k + 1, k + 1), dtype=int)\n",
    "    \n",
    "    # Inicializar el primer elemento de cada fila como 1\n",
    "    triangle[:, 0] = 1  \n",
    "\n",
    "    # Llenar el triángulo usando la relación C(n, k) = C(n-1, k-1) + C(n-1, k)\n",
    "    for i in range(1, k + 1):\n",
    "        for j in range(1, i + 1):\n",
    "            triangle[i, j] = triangle[i - 1, j - 1] + triangle[i - 1, j]\n",
    "\n",
    "    # Filtrar solo las filas útiles (eliminamos ceros sobrantes)\n",
    "    return [row[:i+1] for i, row in enumerate(triangle)]\n",
    "\n",
    "# Ejemplo\n",
    "k = 5\n",
    "for row in pascal_row(k):\n",
    "    print(row)"
   ]
  },
  {
   "cell_type": "raw",
   "id": "a69732ee-e2b9-4dab-88d2-74e78b7e7d14",
   "metadata": {},
   "source": [
    "# Versión recursiva:\n",
    "import numpy as np\n",
    "\n",
    "def pascal_row_recursive(k):\n",
    "    if k == 0:\n",
    "        return [np.array([1])]\n",
    "\n",
    "    prev_triangle = pascal_row_recursive(k - 1)\n",
    "    prev_row = prev_triangle[-1]\n",
    "\n",
    "    new_row = np.zeros(k + 1, dtype=int)\n",
    "    new_row[0], new_row[-1] = 1, 1\n",
    "    new_row[1:-1] = prev_row[:-1] + prev_row[1:]\n",
    "\n",
    "    return prev_triangle + [new_row]\n",
    "\n",
    "# Ejemplo de uso\n",
    "k = 5\n",
    "for row in pascal_row_recursive(k):\n",
    "    print(row)"
   ]
  },
  {
   "cell_type": "code",
   "execution_count": 47,
   "id": "0099493c-a1b8-4610-8a17-f9d49935e9e9",
   "metadata": {},
   "outputs": [],
   "source": [
    "def pascal_row(k):\n",
    "    '''\n",
    "    '''\n",
    "    #Comprobar que el argumento de entrada es un entero no negativo\n",
    "    if not isinstance(k, int) or k < 0:\n",
    "        raise ValueError(\"El valor de k debe ser un número entero no negativo.\")\n",
    "    \n",
    "    if k == 0: # Caso base: la fila 0 es solo [1]\n",
    "        return [1]\n",
    "    prev_row = pascal_row(k - 1) # Llamada recursiva para obtener la fila anterior\n",
    "    \n",
    "    row = [1] # La nueva fila comienza con [1] (primer elemento)\n",
    "    \n",
    "    # Los elementos intermedios son la suma de dos elementos de la fila anterior\n",
    "    for i in range(1, k):\n",
    "        row.append(prev_row[i - 1] + prev_row[i])\n",
    "    \n",
    "    # La fila termina con [1] (último elemento)\n",
    "    row.append(1)\n",
    "\n",
    "    # Verificar que la primera y última posición son 1 (esto es cierto para todas las filas)\n",
    "    if row[0] != 1 or row[-1] != 1:\n",
    "        raise ValueError(\"La fila calculada no sigue la regla del Triángulo de Pascal.\")\n",
    "    \n",
    "    return row"
   ]
  },
  {
   "cell_type": "code",
   "execution_count": 49,
   "id": "ebba93c8-b6aa-4c6a-98b4-31e858126a68",
   "metadata": {},
   "outputs": [],
   "source": [
    "# Caso k = 0: debería devolver [1]\n",
    "assert pascal_row(0) == [1]\n",
    "\n",
    "# Caso k = 1: debería devolver [1, 1]\n",
    "assert pascal_row(1) == [1, 1]"
   ]
  },
  {
   "cell_type": "code",
   "execution_count": 51,
   "id": "4a3eb8bf-c72d-4121-bae3-f3f6eed1bced",
   "metadata": {},
   "outputs": [
    {
     "name": "stdout",
     "output_type": "stream",
     "text": [
      "[1, 1]\n",
      "[1, 2, 1]\n",
      "[1, 3, 3, 1]\n",
      "[1, 4, 6, 4, 1]\n",
      "[1, 5, 10, 10, 5, 1]\n",
      "[1, 6, 15, 20, 15, 6, 1]\n",
      "[1, 7, 21, 35, 35, 21, 7, 1]\n",
      "[1, 8, 28, 56, 70, 56, 28, 8, 1]\n",
      "[1, 9, 36, 84, 126, 126, 84, 36, 9, 1]\n",
      "[1, 10, 45, 120, 210, 252, 210, 120, 45, 10, 1]\n"
     ]
    }
   ],
   "source": [
    "for k in range(1, 11):\n",
    "    tr = pascal_row(k)\n",
    "    print(tr)"
   ]
  },
  {
   "cell_type": "markdown",
   "id": "8816fffe",
   "metadata": {},
   "source": [
    "## Question 3: The 0-1 Knapsack Problem\n",
    "\n",
    "As a sideline to our studies we are considering entering the bank robbing business, for which we must be able to solve the following problem: if we have a knapsack which stands a total integer weight of $W$ and there are $n$ items in the bank's vault with integer values $v_i$ and weights $w_i$, how do we choose those that maximize our loot without breaking the knapsack? Recall that we are in a 0-1 situation: you either take the entire item or none at all.\n",
    "\n",
    "A greedy strategy (natural under the circumstances!) is to order the items by descending relative values $\\frac{v_i}{w_i}$ and add them to the knapsack until the allowed total weight $W$ is surpassed. Remember that you cannot take cannot take a fraction of an item.\n",
    "\n",
    "Write a function `greedy_value(l_weights, l_values, max_weight)` that returns the value of the maximal loot made up of elements with weights in `l_weights` and values in `l_values` that can be carried away in a knapsack which can hold at most a weight `max_weight`. "
   ]
  },
  {
   "cell_type": "code",
   "execution_count": null,
   "id": "9f5d3c56",
   "metadata": {},
   "outputs": [
    {
     "name": "stdout",
     "output_type": "stream",
     "text": [
      "None\n"
     ]
    }
   ],
   "source": [
    "def greedy_value(l_weights, l_values, max_weight):\n",
    "    \"\"\"\n",
    "    \"\"\"\n",
    "    pass\n",
    "\n",
    "l_weights = [4, 4, 5]\n",
    "l_values  = [10, 11, 15]\n",
    "max_weight = 8\n",
    "\n",
    "print(greedy_value(l_weights, l_values, max_weight))"
   ]
  },
  {
   "cell_type": "code",
   "execution_count": 5,
   "id": "f5742bbc-2565-4e1c-b4c5-0357481ef20e",
   "metadata": {},
   "outputs": [],
   "source": [
    "#Con función lambda:\n",
    "def greedy_value(l_weights, l_values, max_weight):\n",
    "    \n",
    "    items = list(zip(l_weights, l_values))\n",
    "    items.sort(key=lambda x: x[1] / x[0], reverse=True)\n",
    "    \n",
    "    total_value = 0\n",
    "    total_weight = 0\n",
    "    \n",
    "    for weight, value in items:\n",
    "        if total_weight + weight <= max_weight:\n",
    "            total_weight += weight\n",
    "            total_value += value\n",
    "    \n",
    "    return total_value"
   ]
  },
  {
   "cell_type": "code",
   "execution_count": 73,
   "id": "4ccf0fb7-1d5f-4f78-8485-bc3099a360c0",
   "metadata": {},
   "outputs": [
    {
     "name": "stdout",
     "output_type": "stream",
     "text": [
      "15\n"
     ]
    }
   ],
   "source": [
    "l_weights = [4, 4, 5]\n",
    "l_values  = [10, 11, 15]\n",
    "max_weight = 8\n",
    "\n",
    "print(greedy_value(l_weights, l_values, max_weight))"
   ]
  },
  {
   "cell_type": "code",
   "execution_count": 7,
   "id": "2c7aa5cd-fb5e-4547-9c2d-7fede9df19cb",
   "metadata": {},
   "outputs": [],
   "source": [
    "##SIN FUNCIÓN LAMBDA\n",
    "def greedy_value(l_weights, l_values, max_weight):\n",
    "    # Función auxiliar para calcular la relación valor-peso\n",
    "    def value_per_weight(item):\n",
    "        return item[1] / item[0]\n",
    "    \n",
    "    # Combinar pesos y valores en una lista de tuplas\n",
    "    items = list(zip(l_weights, l_values))\n",
    "    \n",
    "    # Ordenar los elementos por relación valor-peso en orden descendente\n",
    "    items.sort(key=value_per_weight, reverse=True)\n",
    "    \n",
    "    total_value = 0\n",
    "    total_weight = 0\n",
    "    \n",
    "    # Seleccionar los elementos que caben en la mochila\n",
    "    for weight, value in items:\n",
    "        if total_weight + weight <= max_weight:\n",
    "            total_weight += weight\n",
    "            total_value += value\n",
    "    \n",
    "    return total_value"
   ]
  },
  {
   "cell_type": "code",
   "execution_count": 69,
   "id": "ae39e4e1-8cf8-400c-add0-088583ba5714",
   "metadata": {},
   "outputs": [],
   "source": [
    "def greedy_value(l_weights, l_values, max_weight):\n",
    "    # Primero, calculamos la relación valor/peso de cada item\n",
    "    items = []\n",
    "    for i in range(len(l_weights)):\n",
    "        ratio = l_values[i] / l_weights[i]  # Valor relativo\n",
    "        items.append((l_weights[i], l_values[i], ratio))  # Almacenamos peso, valor y ratio\n",
    "\n",
    "    # Ordenamos los items por el valor relativo en orden descendente\n",
    "    items.sort(key=lambda x: x[2], reverse=True)\n",
    "\n",
    "    total_value = 0\n",
    "    total_weight = 0\n",
    "\n",
    "    # Iteramos sobre los items ordenados\n",
    "    for weight, value, _ in items:\n",
    "        if total_weight + weight <= max_weight:  # Si cabe en la mochila\n",
    "            total_value += value  # Agregamos su valor a la solución\n",
    "            total_weight += weight  # Aumentamos el peso total\n",
    "\n",
    "    return total_value"
   ]
  },
  {
   "cell_type": "code",
   "execution_count": 71,
   "id": "0ef6345a-d5a8-4757-8686-37bd3f0773b9",
   "metadata": {},
   "outputs": [
    {
     "name": "stdout",
     "output_type": "stream",
     "text": [
      "Valor máximo obtenido: 7\n"
     ]
    }
   ],
   "source": [
    "# Ejemplo de uso\n",
    "weights = [2, 3, 4, 5]  # Pesos de los items\n",
    "values = [3, 4, 5, 6]   # Valores de los items\n",
    "max_weight = 5          # Peso máximo de la mochila\n",
    "\n",
    "result = greedy_value(weights, values, max_weight)\n",
    "print(\"Valor máximo obtenido:\", result)"
   ]
  },
  {
   "cell_type": "markdown",
   "id": "12d87156",
   "metadata": {},
   "source": [
    "## Question 4: Dynamic Programming to Solve the 0-1 Knapsack Problem\n",
    "\n",
    "Looking at the output of your greedy function on the previous example, you should be aware that your greedy strategy won't always give an optimal loot.\n",
    "But don't worry, Dynamic Programming comes to the rescue!\n",
    "\n",
    "Devise a dynamic programming strategy to maximize the loot and explain it in this markdown cell.\n",
    "\n",
    "Then, write in the next cell a Python function `optimal_value(l_weights, l_values, max_weight)` that returns the value of the maximal loot made up of elements with weights in `l_weights` and values in `l_values` that can be carried away in a knapsack which can hold at most a weight `max_weight`. "
   ]
  },
  {
   "cell_type": "code",
   "execution_count": null,
   "id": "29ba758c",
   "metadata": {},
   "outputs": [
    {
     "name": "stdout",
     "output_type": "stream",
     "text": [
      "None\n"
     ]
    }
   ],
   "source": [
    "def optimal_value(l_weights, l_values, max_weight):\n",
    "    \"\"\"\n",
    "    \"\"\"\n",
    "    pass\n",
    "\n",
    "l_weights = [4, 4, 5]\n",
    "l_values  = [10, 11, 15]\n",
    "max_weight = 8\n",
    "\n",
    "print(optimal_value(l_weights, l_values, max_weight))"
   ]
  },
  {
   "cell_type": "code",
   "execution_count": 1,
   "id": "449c5d7f-43cf-430e-84b9-e35ef2d36b71",
   "metadata": {},
   "outputs": [],
   "source": [
    "def optimal_value(l_weights, l_values, max_weight):\n",
    "\n",
    "    if len(l_weights) != len(l_values):\n",
    "        raise ValueError(\"Las listas de pesos y valores deben tener la misma longitud.\")\n",
    "    if any(w < 0 for w in l_weights) or any(v < 0 for v in l_values):\n",
    "        raise ValueError(\"Los pesos y los valores deben ser números no negativos.\")\n",
    "    if max_weight < 0:\n",
    "        raise ValueError(\"El peso máximo de la mochila no puede ser negativo.\")\n",
    "    # Si cadenas vacias, devolver 0\n",
    "    if len(l_weights) == 0 or len(l_values) == 0 or max_weight == 0:\n",
    "        return 0\n",
    "\n",
    "    if not isinstance(l_weights, list) or not isinstance(l_values, list):\n",
    "        raise TypeError(\"`l_weights` y `l_values` deben ser listas.\")\n",
    "    if not isinstance(max_weight, int):\n",
    "        raise TypeError(\"`max_weight` debe ser un número entero.\")\n",
    "\n",
    "\n",
    "    n = len(l_weights)\n",
    "    # Initialize a DP table with (n+1) rows and (max_weight+1) columns\n",
    "    dp = [[0] * (max_weight + 1) for _ in range(n + 1)]\n",
    "    \n",
    "    # Fill the DP table\n",
    "    for i in range(1, n + 1):  # Iterate over items\n",
    "        for w in range(1, max_weight + 1):  # Iterate over weights\n",
    "            if l_weights[i - 1] <= w:\n",
    "                # Choose the maximum between including or excluding the item\n",
    "                dp[i][w] = max(dp[i - 1][w], dp[i - 1][w - l_weights[i - 1]] + l_values[i - 1])\n",
    "            else:\n",
    "                # Cannot include the item\n",
    "                dp[i][w] = dp[i - 1][w]\n",
    "    \n",
    "    # The result is in the bottom-right cell of the table\n",
    "    print(dp)\n",
    "    return dp[n][max_weight]"
   ]
  },
  {
   "cell_type": "code",
   "execution_count": 89,
   "id": "f1ef9cc5-0e37-4682-8d50-b630118bfded",
   "metadata": {},
   "outputs": [
    {
     "name": "stdout",
     "output_type": "stream",
     "text": [
      "220\n"
     ]
    }
   ],
   "source": [
    "# Example usage\n",
    "l_weights = [10, 20, 30]\n",
    "l_values = [60, 100, 120]\n",
    "max_weight = 50\n",
    "\n",
    "print(optimal_value(l_weights, l_values, max_weight))"
   ]
  },
  {
   "cell_type": "code",
   "execution_count": 87,
   "id": "6ccb535b-ace4-4682-a575-d9bb36feceb5",
   "metadata": {},
   "outputs": [
    {
     "name": "stdout",
     "output_type": "stream",
     "text": [
      "21\n"
     ]
    }
   ],
   "source": [
    "l_weights = [4, 4, 5]\n",
    "l_values  = [10, 11, 15]\n",
    "max_weight = 8\n",
    "\n",
    "print(optimal_value(l_weights, l_values, max_weight))"
   ]
  },
  {
   "cell_type": "code",
   "execution_count": 93,
   "id": "d797ad86-6b94-42ba-8446-0bef4af7de68",
   "metadata": {},
   "outputs": [
    {
     "name": "stdout",
     "output_type": "stream",
     "text": [
      "Valor máximo obtenido: 7\n"
     ]
    }
   ],
   "source": [
    "# Ejemplo de uso\n",
    "weights = [2, 3, 4, 5]  # Pesos de los items\n",
    "values = [3, 4, 5, 6]   # Valores de los items\n",
    "max_weight = 5          # Peso máximo de la mochila\n",
    "\n",
    "result = optimal_value(weights, values, max_weight)\n",
    "print(\"Valor máximo obtenido:\", result)"
   ]
  },
  {
   "cell_type": "code",
   "execution_count": null,
   "id": "7813b42e-8449-4370-abe4-b61e49e4655f",
   "metadata": {},
   "outputs": [],
   "source": []
  }
 ],
 "metadata": {
  "kernelspec": {
   "display_name": "Python 3",
   "language": "python",
   "name": "python3"
  },
  "language_info": {
   "codemirror_mode": {
    "name": "ipython",
    "version": 3
   },
   "file_extension": ".py",
   "mimetype": "text/x-python",
   "name": "python",
   "nbconvert_exporter": "python",
   "pygments_lexer": "ipython3",
   "version": "3.12.8"
  }
 },
 "nbformat": 4,
 "nbformat_minor": 5
}
