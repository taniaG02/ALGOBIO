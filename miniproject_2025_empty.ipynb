{
 "cells": [
  {
   "cell_type": "markdown",
   "id": "e578b609-3749-457f-b608-70dcd790d93e",
   "metadata": {},
   "source": [
    "# Miniproject\n",
    "\n",
    "You have to turn in\n",
    "\n",
    "* a file \n",
    "\n",
    "  >`mp_apellidos.ipynb` \n",
    "  \n",
    "  where `apellidos` are the last names of the members of each team.Just fill in the cell codes below with your functions and run the lines that currently start with comments. Make sure it works fine by executing Kernel/Restart & Run All.\n",
    "  \n",
    "  **Don't forget to write function docstrings and an adequate control of function parameters.** \n",
    "    \n",
    "    \n",
    "* a file \n",
    "  \n",
    "  >`mp_apellidos.html` \n",
    "  \n",
    "  with an `html` rendering of the previous `.ipynb` file (for instance, if working with Jupyter notebooks, just apply `File / Download as HTML` after a correct run of `Kernel/Restart & Run All`).\n",
    "\n",
    "**Submitting your work**\n",
    "\n",
    "1. Create a folder named `apellidos` and place there the previous `.ipynb`and `.html` files.\n",
    "2. Compress **the folder** with 7zip, WinZip or a similar tool to create a `apellidos.zip` compressed file.\n",
    "3. Upload this zipped file using the moodle link.\n",
    "\n",
    "**Very important!!!**\n",
    "\n",
    "*Make sure you follow the file naming conventions above*. If not, you may be asked to resubmit your work."
   ]
  },
  {
   "cell_type": "code",
   "execution_count": null,
   "id": "13140869",
   "metadata": {},
   "outputs": [],
   "source": []
  },
  {
   "cell_type": "markdown",
   "id": "6e2401b2-a280-462b-b577-90c09dbafb0a",
   "metadata": {},
   "source": [
    "## Question 1: Finding the Longest Common Subsequence\n",
    "\n",
    "We have not paid too much attention to it, but we have in the slides the basis of a dynamic programming algorithm to find the length of **longest common subsequence** between two strings, i.e. the longest, perhaps non consecutive, string that appears in both.  \n",
    "\n",
    "Notice that **we do not impose** the constraint of the **characters in the sequence be consecutive**; with that requirement the problem is called the **common substring problem**.\n",
    "\n",
    "Write first a Python function `lcs_matrix(s, t)` that receives two strings `s, t` and returns the dynamic programming matrix used to compute the length of their longest common subsequence.\n",
    "\n",
    "Then write a Python function `lcs(s, t)` that returns a string with a longest common subsequence, using the LCS matrix returned by the previous function."
   ]
  },
  {
   "cell_type": "code",
   "execution_count": 1,
   "id": "41e69418-340f-4fee-a4ce-cf10014d7983",
   "metadata": {
    "tags": []
   },
   "outputs": [
    {
     "name": "stdout",
     "output_type": "stream",
     "text": [
      "bananas bahamas None\n",
      "biscuit suitcase None\n",
      "confidential trascendental None\n"
     ]
    }
   ],
   "source": [
    "def lcs_matrix(s, t):\n",
    "    \"\"\"\n",
    "    \"\"\"\n",
    "    pass\n",
    "\n",
    "\n",
    "def lcs(s, t):\n",
    "    \"\"\"\n",
    "    \"\"\"\n",
    "    pass\n",
    "\n",
    "for s, t in zip(['bananas', 'biscuit', 'confidential'], ['bahamas', 'suitcase', 'trascendental']):\n",
    "    lc_str = lcs(s, t)\n",
    "    print(s, t, lc_str)"
   ]
  },
  {
   "cell_type": "markdown",
   "id": "1004565e",
   "metadata": {},
   "source": [
    "## Question 2: The Pascal Triangle\n",
    "\n",
    "Pascal's triangle is a triangular array of integers constructed with the following formula:\n",
    "\n",
    "* The first row consists of the number 1.\n",
    "* For each subsequent row, each element is the sum of the numbers directly above it, on either side.\n",
    "\n",
    "For example, here are the first few rows:  \n",
    "```text \n",
    "    1  \n",
    "   1 1  \n",
    "  1 2 1  \n",
    " 1 3 3 1  \n",
    "1 4 6 4 1 \n",
    "``` \n",
    "\n",
    "Write a Python function `pascal_row(k)` that returns the `k`-th row of Pascal's triangle. Assume the single `1` to be the 0-th row.  \n",
    "\n",
    "*Hint: Make it a recursive function that computes first the previous row `k-1` and uses it to compute the current one.*"
   ]
  },
  {
   "cell_type": "code",
   "execution_count": null,
   "id": "8d7a3237",
   "metadata": {},
   "outputs": [],
   "source": [
    "def pascal_row(k):\n",
    "    \"\"\"\n",
    "    \"\"\"\n",
    "    pass\n",
    "\n",
    "for k in range(1, 11):\n",
    "    tr = pascal_row(k)\n",
    "    print(tr)"
   ]
  },
  {
   "cell_type": "markdown",
   "id": "8816fffe",
   "metadata": {},
   "source": [
    "## Question 3: The 0-1 Knapsack Problem\n",
    "\n",
    "As a sideline to our studies we are considering entering the bank robbing business, for which we must be able to solve the following problem: if we have a knapsack which stands a total integer weight of $W$ and there are $n$ items in the bank's vault with integer values $v_i$ and weights $w_i$, how do we choose those that maximize our loot without breaking the knapsack? Recall that we are in a 0-1 situation: you either take the entire item or none at all.\n",
    "\n",
    "A greedy strategy (natural under the circumstances!) is to order the items by descending relative values $\\frac{v_i}{w_i}$ and add them to the knapsack until the allowed total weight $W$ is surpassed. Remember that you cannot take cannot take a fraction of an item.\n",
    "\n",
    "Write a function `greedy_value(l_weights, l_values, max_weight)` that returns the value of the maximal loot made up of elements with weights in `l_weights` and values in `l_values` that can be carried away in a knapsack which can hold at most a weight `max_weight`. "
   ]
  },
  {
   "cell_type": "code",
   "execution_count": null,
   "id": "9f5d3c56",
   "metadata": {},
   "outputs": [
    {
     "name": "stdout",
     "output_type": "stream",
     "text": [
      "None\n"
     ]
    }
   ],
   "source": [
    "def greedy_value(l_weights, l_values, max_weight):\n",
    "    \"\"\"\n",
    "    \"\"\"\n",
    "    pass\n",
    "\n",
    "l_weights = [4, 4, 5]\n",
    "l_values  = [10, 11, 15]\n",
    "max_weight = 8\n",
    "\n",
    "print(greedy_value(l_weights, l_values, max_weight))"
   ]
  },
  {
   "cell_type": "markdown",
   "id": "12d87156",
   "metadata": {},
   "source": [
    "## Question 4: Dynamic Programming to Solve the 0-1 Knapsack Problem\n",
    "\n",
    "Looking at the output of your greedy function on the previous example, you should be aware that your greedy strategy won't always give an optimal loot.\n",
    "But don't worry, Dynamic Programming comes to the rescue!\n",
    "\n",
    "Devise a dynamic programming strategy to maximize the loot and explain it in this markdown cell.\n",
    "\n",
    "Then, write in the next cell a Python function `optimal_value(l_weights, l_values, max_weight)` that returns the value of the maximal loot made up of elements with weights in `l_weights` and values in `l_values` that can be carried away in a knapsack which can hold at most a weight `max_weight`. "
   ]
  },
  {
   "cell_type": "code",
   "execution_count": null,
   "id": "29ba758c",
   "metadata": {},
   "outputs": [
    {
     "name": "stdout",
     "output_type": "stream",
     "text": [
      "None\n"
     ]
    }
   ],
   "source": [
    "def optimal_value(l_weights, l_values, max_weight):\n",
    "    \"\"\"\n",
    "    \"\"\"\n",
    "    pass\n",
    "\n",
    "l_weights = [4, 4, 5]\n",
    "l_values  = [10, 11, 15]\n",
    "max_weight = 8\n",
    "\n",
    "print(optimal_value(l_weights, l_values, max_weight))"
   ]
  }
 ],
 "metadata": {
  "kernelspec": {
   "display_name": "Python 3 (ipykernel)",
   "language": "python",
   "name": "python3"
  },
  "language_info": {
   "codemirror_mode": {
    "name": "ipython",
    "version": 3
   },
   "file_extension": ".py",
   "mimetype": "text/x-python",
   "name": "python",
   "nbconvert_exporter": "python",
   "pygments_lexer": "ipython3",
   "version": "3.12.4"
  }
 },
 "nbformat": 4,
 "nbformat_minor": 5
}
